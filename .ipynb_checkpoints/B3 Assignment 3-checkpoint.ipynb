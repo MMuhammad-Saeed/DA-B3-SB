{
 "cells": [
  {
   "cell_type": "markdown",
   "id": "040aea0c-eda0-465a-b3f6-fd58237a430b",
   "metadata": {},
   "source": [
    "Question 1: Age Group Classification \n",
    "\n",
    "Write a Python program that takes the age of a person as input and classifies them into one of the following age groups:\n",
    "\n",
    "\"Child\" if the age is between 0 and 12 (inclusive).\n",
    "\n",
    "\"Teenager\" if the age is between 13 and 19 (inclusive).\n",
    "\n",
    "\"Adult\" if the age is between 20 and 64 (inclusive).\n",
    "\n",
    "\"Senior\" if the age is 65 or older.\n"
   ]
  },
  {
   "cell_type": "code",
   "execution_count": 2,
   "id": "36170d38-ad7a-4b49-a897-f4bff13b5d29",
   "metadata": {},
   "outputs": [
    {
     "name": "stdin",
     "output_type": "stream",
     "text": [
      "Please enter your age:  56\n"
     ]
    },
    {
     "name": "stdout",
     "output_type": "stream",
     "text": [
      "At 56 years old, you are classified as a Adult.\n"
     ]
    }
   ],
   "source": [
    "def classify_age(age):\n",
    "    if age < 0:\n",
    "        return \"Invalid age (age cannot be negative)\"\n",
    "    elif age <= 12:\n",
    "        return \"Child\"\n",
    "    elif age <= 19:\n",
    "        return \"Teenager\"\n",
    "    elif age <= 64:\n",
    "        return \"Adult\"\n",
    "    else:\n",
    "        return \"Senior\"\n",
    "\n",
    "# Get user input\n",
    "try:\n",
    "    age = int(input(\"Please enter your age: \"))\n",
    "    age_group = classify_age(age)\n",
    "    print(f\"At {age} years old, you are classified as a {age_group}.\")\n",
    "except ValueError:\n",
    "    print(\"Invalid input. Please enter a valid number for age.\")"
   ]
  },
  {
   "cell_type": "markdown",
   "id": "5068bb33-315c-4a5d-be95-4caa94afe993",
   "metadata": {},
   "source": [
    "Q2. Write a Python program that asks the user to enter an email address. The program should check if the email contains the characters @ and \".\" (ignoring case). If either character is present, print \"Email format is valid.\" Otherwise, print \"Invalid email format.\""
   ]
  },
  {
   "cell_type": "code",
   "execution_count": 6,
   "id": "9d6d1ab0-3e0c-4995-a823-8fd20eac80f8",
   "metadata": {},
   "outputs": [
    {
     "name": "stdin",
     "output_type": "stream",
     "text": [
      "Enter your email address:  2mrmsa.gmail.com\n"
     ]
    },
    {
     "name": "stdout",
     "output_type": "stream",
     "text": [
      "Invalid email format.\n"
     ]
    }
   ],
   "source": [
    "# Ask the user to enter an email address\n",
    "email = input(\"Enter your email address: \")\n",
    "\n",
    "# Check for presence of '@' and '.'\n",
    "if \"@\" in email:\n",
    "    if \".\" in email:\n",
    "        print(\"Email format is valid.\")\n",
    "    else:\n",
    "        print(\"Invalid email format.\")\n",
    "else:\n",
    "    print(\"Invalid email format.\")"
   ]
  },
  {
   "cell_type": "markdown",
   "id": "a074ddbe-c5c4-455e-ac3c-53fbbc6c2d56",
   "metadata": {},
   "source": [
    "Q3. Write a Python program that takes three numbers as input and determines the largest among them. Also, check if any or all of the numbers are equal.\""
   ]
  },
  {
   "cell_type": "code",
   "execution_count": 2,
   "id": "932908b9-45a8-43d0-b2b0-d4463792cba9",
   "metadata": {},
   "outputs": [
    {
     "name": "stdin",
     "output_type": "stream",
     "text": [
      "Enter the first number:  4\n",
      "Enter the second number:  8\n",
      "Enter the third number:  9\n"
     ]
    },
    {
     "name": "stdout",
     "output_type": "stream",
     "text": [
      "All numbers are different.\n",
      "The largest number is: 9.0\n"
     ]
    }
   ],
   "source": [
    "# Get three numbers from the user\n",
    "num1 = float(input(\"Enter the first number: \"))\n",
    "num2 = float(input(\"Enter the second number: \"))\n",
    "num3 = float(input(\"Enter the third number: \"))\n",
    "\n",
    "# Check for equality\n",
    "if num1 == num2 == num3:\n",
    "    print(\"All three numbers are equal.\")\n",
    "elif num1 == num2 or num2 == num3 or num1 == num3:\n",
    "    print(\"Two of the numbers are equal.\")\n",
    "else:\n",
    "    print(\"All numbers are different.\")\n",
    "\n",
    "# Determine the largest number\n",
    "if num1 >= num2 and num1 >= num3:\n",
    "    largest = num1\n",
    "elif num2 >= num1 and num2 >= num3:\n",
    "    largest = num2\n",
    "else:\n",
    "    largest = num3\n",
    "\n",
    "print(f\"The largest number is: {largest}\")"
   ]
  },
  {
   "cell_type": "markdown",
   "id": "55560bd6-a9d8-4e57-a192-b3e9932ff5cb",
   "metadata": {},
   "source": [
    "Q4. Write a Python program that:\n",
    "\n",
    "Asks the user to enter a number.\n",
    "\n",
    "Checks whether the number is positive.\n",
    "\n",
    "If yes, further check if it's even or odd.\n",
    "\n",
    "Print \"The number is positive and even\" if divisible by 2.\n",
    "\n",
    "Print \"The number is positive and odd\" if not divisible by 2.\n",
    "\n",
    "If the number is zero or negative, print \"The number is not positive\".\n",
    "\n"
   ]
  },
  {
   "cell_type": "code",
   "execution_count": 10,
   "id": "21c0c740-576f-4798-8cbc-adce121e1e32",
   "metadata": {},
   "outputs": [
    {
     "name": "stdin",
     "output_type": "stream",
     "text": [
      "Enter a number:  -25\n"
     ]
    },
    {
     "name": "stdout",
     "output_type": "stream",
     "text": [
      "The number is not positive.\n"
     ]
    }
   ],
   "source": [
    "# Ask the user to enter a number\n",
    "num = int(input(\"Enter a number: \"))\n",
    "\n",
    "# Check if the number is positive\n",
    "if num > 0:\n",
    "    # Check if it's even\n",
    "    if num % 2 == 0:\n",
    "        print(\"The number is positive and even.\")\n",
    "    else:\n",
    "        print(\"The number is positive and odd.\")\n",
    "else:\n",
    "    print(\"The number is not positive.\")"
   ]
  },
  {
   "cell_type": "markdown",
   "id": "800fe26a-5d6e-4107-97ba-62fa4f913093",
   "metadata": {},
   "source": [
    "Q5. Ask the user for a username and password. Check if the username is correct. If it is, then check if the password is correct. If both are correct, print \"Access granted\".\n",
    "\n",
    "username = \"admin\"\n",
    "\n",
    "password = \"1234\""
   ]
  },
  {
   "cell_type": "code",
   "execution_count": 14,
   "id": "572e8b02-ea6c-4e28-8b09-dfdbb43ab994",
   "metadata": {},
   "outputs": [
    {
     "name": "stdin",
     "output_type": "stream",
     "text": [
      "Enter your username:  admin\n",
      "Enter your password:  1234\n"
     ]
    },
    {
     "name": "stdout",
     "output_type": "stream",
     "text": [
      "Access granted.\n"
     ]
    }
   ],
   "source": [
    "# Stored credentials\n",
    "username = \"admin\"\n",
    "password = \"1234\"\n",
    "\n",
    "# Ask user for input\n",
    "entered_username = input(\"Enter your username: \")\n",
    "entered_password = input(\"Enter your password: \")\n",
    "\n",
    "# Check credentials\n",
    "if entered_username == username:\n",
    "    if entered_password == password:\n",
    "        print(\"Access granted.\")\n",
    "    else:\n",
    "        print(\"Incorrect password.\")\n",
    "else:\n",
    "    print(\"Incorrect username.\")"
   ]
  },
  {
   "cell_type": "markdown",
   "id": "d7512946-1c55-48d5-b62d-4f17c84f457a",
   "metadata": {},
   "source": [
    "Q6. Take an integer input from the user and check whether the entered value exists in the tuple my_tuple = (5, 10, 15, 20, 25). Print an appropriate message based on the result."
   ]
  },
  {
   "cell_type": "code",
   "execution_count": 18,
   "id": "2133ceb7-d2f9-47a6-9aa5-a2ffb9865c2e",
   "metadata": {},
   "outputs": [
    {
     "name": "stdin",
     "output_type": "stream",
     "text": [
      "Enter an integer:  13\n"
     ]
    },
    {
     "name": "stdout",
     "output_type": "stream",
     "text": [
      "13 does not exist in the tuple.\n"
     ]
    }
   ],
   "source": [
    "# Define the tuple\n",
    "my_tuple = (5, 10, 15, 20, 25)\n",
    "\n",
    "# Take integer input from the user\n",
    "user_input = int(input(\"Enter an integer: \"))\n",
    "\n",
    "# Check if the input exists in the tuple\n",
    "if user_input in my_tuple:\n",
    "    print(f\"{user_input} exists in the tuple.\")\n",
    "else:\n",
    "    print(f\"{user_input} does not exist in the tuple.\")"
   ]
  },
  {
   "cell_type": "markdown",
   "id": "f38b44b4-1244-4fa9-a186-8153caa421ec",
   "metadata": {},
   "source": [
    "Q7. Create a program that takes the user's first name, last name, and age as input, packs them into a tuple, and prints the tuple."
   ]
  },
  {
   "cell_type": "code",
   "execution_count": 20,
   "id": "34a06715-0edd-4a4c-9804-7e5e35015395",
   "metadata": {},
   "outputs": [
    {
     "name": "stdin",
     "output_type": "stream",
     "text": [
      "Enter your first name:  saeed\n",
      "Enter your last name:  muhammad\n",
      "Enter your age:  57\n"
     ]
    },
    {
     "name": "stdout",
     "output_type": "stream",
     "text": [
      "User information tuple: ('saeed', 'muhammad', 57)\n"
     ]
    }
   ],
   "source": [
    "# Take user input\n",
    "first_name = input(\"Enter your first name: \")\n",
    "last_name = input(\"Enter your last name: \")\n",
    "age = int(input(\"Enter your age: \"))\n",
    "\n",
    "# Pack into a tuple\n",
    "user_info = (first_name, last_name, age)\n",
    "\n",
    "# Print the tuple\n",
    "print(\"User information tuple:\", user_info)"
   ]
  },
  {
   "cell_type": "markdown",
   "id": "6a08567b-6f6c-4374-a54e-992c09a31780",
   "metadata": {},
   "source": [
    "Q8. Given the tuple coordinates = (4, 5, 6), unpack the elements of the tuple into three variables x, y, and z. Then, calculate and print the sum of the variables."
   ]
  },
  {
   "cell_type": "code",
   "execution_count": 22,
   "id": "a21aca73-0428-4916-8422-210205712260",
   "metadata": {},
   "outputs": [
    {
     "name": "stdout",
     "output_type": "stream",
     "text": [
      "The sum of the coordinates is: 15\n"
     ]
    }
   ],
   "source": [
    "# Given tuple\n",
    "coordinates = (4, 5, 6)\n",
    "\n",
    "# Unpack the tuple into variables\n",
    "x, y, z = coordinates\n",
    "\n",
    "# Calculate the sum\n",
    "total = x + y + z\n",
    "\n",
    "# Print the result\n",
    "print(\"The sum of the coordinates is:\", total)"
   ]
  },
  {
   "cell_type": "markdown",
   "id": "d3973711-1c49-436f-aaff-e0a19877f525",
   "metadata": {},
   "source": [
    "Q9. Given the tuple my_tuple = (1, 2, 3, 4, 5), remove the element 3 from the tuple by first converting it to a list, and then print the resulting tuple."
   ]
  },
  {
   "cell_type": "code",
   "execution_count": 24,
   "id": "dd2ef815-e5c0-4b51-a14a-cc5955b811b3",
   "metadata": {},
   "outputs": [
    {
     "name": "stdout",
     "output_type": "stream",
     "text": [
      "Tuple after removing 3: (1, 2, 4, 5)\n"
     ]
    }
   ],
   "source": [
    "# Given tuple\n",
    "my_tuple = (1, 2, 3, 4, 5)\n",
    "\n",
    "# Convert tuple to list\n",
    "temp_list = list(my_tuple)\n",
    "\n",
    "# Remove the element 3\n",
    "if 3 in temp_list:\n",
    "    temp_list.remove(3)\n",
    "\n",
    "# Convert back to tuple\n",
    "new_tuple = tuple(temp_list)\n",
    "\n",
    "# Print the resulting tuple\n",
    "print(\"Tuple after removing 3:\", new_tuple)"
   ]
  },
  {
   "cell_type": "markdown",
   "id": "c9c6a478-5d3d-4e1e-8bce-b9479925c7c5",
   "metadata": {},
   "source": [
    "Q10. Given the tuple numbers = (10, 20, 5, 30, 15), find and print the maximum and minimum values in the tuple."
   ]
  },
  {
   "cell_type": "code",
   "execution_count": 26,
   "id": "23f2258c-e489-4d2a-8b1c-20b9e76ac764",
   "metadata": {},
   "outputs": [
    {
     "name": "stdout",
     "output_type": "stream",
     "text": [
      "Maximum value in the tuple: 30\n",
      "Minimum value in the tuple: 5\n"
     ]
    }
   ],
   "source": [
    "# Given tuple\n",
    "numbers = (10, 20, 5, 30, 15)\n",
    "\n",
    "# Find maximum and minimum values\n",
    "max_value = max(numbers)\n",
    "min_value = min(numbers)\n",
    "\n",
    "# Print the results\n",
    "print(\"Maximum value in the tuple:\", max_value)\n",
    "print(\"Minimum value in the tuple:\", min_value)"
   ]
  }
 ],
 "metadata": {
  "kernelspec": {
   "display_name": "Python [conda env:base] *",
   "language": "python",
   "name": "conda-base-py"
  },
  "language_info": {
   "codemirror_mode": {
    "name": "ipython",
    "version": 3
   },
   "file_extension": ".py",
   "mimetype": "text/x-python",
   "name": "python",
   "nbconvert_exporter": "python",
   "pygments_lexer": "ipython3",
   "version": "3.12.7"
  }
 },
 "nbformat": 4,
 "nbformat_minor": 5
}
