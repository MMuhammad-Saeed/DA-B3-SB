{
 "cells": [
  {
   "cell_type": "markdown",
   "id": "6cfd25d7-2816-468c-9b66-e53411f938ac",
   "metadata": {},
   "source": [
    "1- \n",
    "\n",
    "text = 'hello python world'\n",
    "\n",
    "Replace spaces with underscores in the string (e.g., \"hello python world\" → \"hello_python_world\").\n",
    "\n",
    "Split the modified string (e.g., \"hello_python_world\" → ['hello', 'python', 'world']).\n",
    "\n",
    "Join the list elements with a hyphen (-) between them (e.g., ['hello', 'python', 'world'] → \"hello-python-world\").\n",
    "\n",
    "Print all three results\n",
    "\n",
    "Hint: Use string methods"
   ]
  },
  {
   "cell_type": "code",
   "execution_count": 20,
   "id": "afe50ea9-cf91-46b0-8e55-ecb2ecde0fc4",
   "metadata": {},
   "outputs": [
    {
     "name": "stdout",
     "output_type": "stream",
     "text": [
      "hello_python_world\n",
      "['hello', 'python', 'world']\n",
      "hello-python-world\n"
     ]
    }
   ],
   "source": [
    "text ='hello python world'\n",
    "modified_text=text.replace(\" \", \"_\")\n",
    "print(modified_text)\n",
    "split_text=modified_text.split(\"_\")\n",
    "print(split_text)\n",
    "hyphenated_text=\"-\".join(split_text)\n",
    "print(hyphenated_text)"
   ]
  },
  {
   "cell_type": "markdown",
   "id": "43b16f9d-fe31-4abf-8377-82c6cc146e07",
   "metadata": {},
   "source": [
    "2- Check if a string has more than 5 characters. Return True/False\n",
    "\n",
    "word = \"Javascript\""
   ]
  },
  {
   "cell_type": "code",
   "execution_count": 26,
   "id": "3cf34af5-d8b4-4182-84b6-15ddbf0b837d",
   "metadata": {},
   "outputs": [
    {
     "name": "stdout",
     "output_type": "stream",
     "text": [
      "True\n"
     ]
    }
   ],
   "source": [
    "word=\"Javascript\"\n",
    "result=len(word)>5\n",
    "print(result)"
   ]
  },
  {
   "cell_type": "markdown",
   "id": "b1f1b114-fa24-40b3-851b-208bef6992f3",
   "metadata": {},
   "source": [
    "3- Check if a number is even and greater than 10. Return True/False\n",
    "\n",
    "num2 = 12"
   ]
  },
  {
   "cell_type": "code",
   "execution_count": 34,
   "id": "fdbeca56-ac99-4b08-86a1-672d801cd3a3",
   "metadata": {},
   "outputs": [
    {
     "name": "stdout",
     "output_type": "stream",
     "text": [
      "True\n"
     ]
    }
   ],
   "source": [
    "num2=12\n",
    "result2 = (num2 % 2 == 0) and (num2 > 10)\n",
    "print(result2)"
   ]
  },
  {
   "cell_type": "markdown",
   "id": "a8861555-edde-43cb-94c7-ace2988433fa",
   "metadata": {},
   "source": [
    "4- Check if a number is less than 5 or greater than 20. Return True/False\n",
    "\n",
    "num3 = 3"
   ]
  },
  {
   "cell_type": "code",
   "execution_count": 36,
   "id": "5b7c030e-6423-4440-8bcd-cf42748a43fe",
   "metadata": {},
   "outputs": [
    {
     "name": "stdout",
     "output_type": "stream",
     "text": [
      "True\n"
     ]
    }
   ],
   "source": [
    "num3=3\n",
    "result3=(num3<5) or (num3>20)\n",
    "print(result3)"
   ]
  },
  {
   "cell_type": "markdown",
   "id": "1bb3ccd8-c052-47ed-ab1c-d76496b2174c",
   "metadata": {},
   "source": [
    "5- Check if a person’s age is between 18 and 65 and if they have a valid ID\n",
    "\n",
    "age = 25\n",
    "\n",
    "has_id = True"
   ]
  },
  {
   "cell_type": "code",
   "execution_count": 48,
   "id": "db7d79b5-eb2e-40cf-abfb-8da74f08b15b",
   "metadata": {},
   "outputs": [
    {
     "name": "stdout",
     "output_type": "stream",
     "text": [
      "True\n"
     ]
    }
   ],
   "source": [
    "age=25\n",
    "has_id=True\n",
    "result4=(18<= age <=65) and has_id\n",
    "print(result4)"
   ]
  },
  {
   "cell_type": "markdown",
   "id": "2842c61a-03a6-4501-b217-b616e35d5381",
   "metadata": {},
   "source": [
    "6-Write a script to check if a string starts with (http://) or (https://)\n",
    "\n",
    "url = \"https://www.example.com\""
   ]
  },
  {
   "cell_type": "code",
   "execution_count": 50,
   "id": "0666a827-412f-49ae-8ed1-eff1be962621",
   "metadata": {},
   "outputs": [
    {
     "name": "stdout",
     "output_type": "stream",
     "text": [
      "The URL starts with 'http://' or 'https://'.\n"
     ]
    }
   ],
   "source": [
    "url = \"https://www.example.com\"\n",
    "\n",
    "# Check if the string starts with 'http://' or 'https://'\n",
    "if url.startswith(('http://', 'https://')):\n",
    "    print(\"The URL starts with 'http://' or 'https://'.\")\n",
    "else:\n",
    "    print(\"The URL does not start with 'http://' or 'https://'.\")"
   ]
  },
  {
   "cell_type": "markdown",
   "id": "aab1ae26-2cc7-4d19-937d-a83c6cffc5ec",
   "metadata": {},
   "source": [
    "7- Write a script that applies a 10% discount to an item's price. (Using Assignment Operator)\n",
    "\n",
    "price = 100"
   ]
  },
  {
   "cell_type": "code",
   "execution_count": 52,
   "id": "8aa3e348-fc03-4774-aacb-08e65ca62a0c",
   "metadata": {},
   "outputs": [
    {
     "name": "stdout",
     "output_type": "stream",
     "text": [
      "The final price after a 10% discount is: 90.0\n"
     ]
    }
   ],
   "source": [
    "# Initial price of the item\n",
    "price = 100\n",
    "\n",
    "# Apply a 10% discount using the assignment operator\n",
    "price -= price * 0.10  # This subtracts 10% of the price from itself\n",
    "\n",
    "# Print the final price after the discount\n",
    "print(f\"The final price after a 10% discount is: {price}\")"
   ]
  },
  {
   "cell_type": "markdown",
   "id": "f6cddfb2-70b7-4e67-9b02-728c82e92e2f",
   "metadata": {},
   "source": [
    "8- You are managing different customer lists for a subscription service, check if alice@example.com is our both premium and basic customer\n",
    "\n",
    "premium_customers = [\"alice@example.com\", \"charlie@example.com\", \"bob@example.com\"]\n",
    "\n",
    "basic_customers = [\"alex@example.com\", \"david@example.com\", \"chloe@example.com\"]"
   ]
  },
  {
   "cell_type": "code",
   "execution_count": 54,
   "id": "1e626c07-6891-444d-b4f6-5ad40e38a6c8",
   "metadata": {},
   "outputs": [
    {
     "name": "stdout",
     "output_type": "stream",
     "text": [
      "Is alice@example.com both a premium and basic customer? False\n"
     ]
    }
   ],
   "source": [
    "# Customer lists\n",
    "premium_customers = [\"alice@example.com\", \"charlie@example.com\", \"bob@example.com\"]\n",
    "basic_customers = [\"alex@example.com\", \"david@example.com\", \"chloe@example.com\"]\n",
    "\n",
    "# Check if alice@example.com is in both lists\n",
    "is_premium = \"alice@example.com\" in premium_customers\n",
    "is_basic = \"alice@example.com\" in basic_customers\n",
    "\n",
    "# Final result\n",
    "result = is_premium and is_basic\n",
    "\n",
    "# Print the result\n",
    "print(f\"Is alice@example.com both a premium and basic customer? {result}\")"
   ]
  },
  {
   "cell_type": "markdown",
   "id": "47dbafcf-7a6b-4ba0-af44-1e567292f8de",
   "metadata": {},
   "source": [
    "9. Write a Python program that prompts the user to enter a password and returns True or False based on the following checks:\n",
    "\n",
    "Whether the string contains any uppercase characters.\n",
    "\n",
    "Whether the string contains any lowercase characters.\n",
    "\n",
    "Whether the string contains any spaces.\n",
    "\n",
    "Whether the string contains any special characters (anything other than letters, digits, and spaces).\n",
    "\n",
    "\n",
    "\n",
    "Hint: Use Input function and string methods\n"
   ]
  },
  {
   "cell_type": "code",
   "execution_count": 58,
   "id": "243a56d0-b79c-4144-952e-8611c9226274",
   "metadata": {},
   "outputs": [
    {
     "name": "stdin",
     "output_type": "stream",
     "text": [
      "Enter your password:  Saeed786%\n"
     ]
    },
    {
     "name": "stdout",
     "output_type": "stream",
     "text": [
      "Password contains uppercase characters: True\n",
      "Password contains lowercase characters: True\n",
      "Password contains spaces: False\n",
      "Password contains special characters: True\n",
      "Is the password valid? True\n"
     ]
    }
   ],
   "source": [
    "# Function to check password validity\n",
    "def check_password(password):\n",
    "    # Check for uppercase characters\n",
    "    has_upper = any(char.isupper() for char in password)\n",
    "    \n",
    "    # Check for lowercase characters\n",
    "    has_lower = any(char.islower() for char in password)\n",
    "    \n",
    "    # Check for spaces\n",
    "    has_space = ' ' in password\n",
    "    \n",
    "    # Check for special characters (anything other than letters, digits, and spaces)\n",
    "    has_special = any(not char.isalnum() and not char.isspace() for char in password)\n",
    "    \n",
    "    # Return results of all checks\n",
    "    return {\n",
    "        \"has_upper\": has_upper,\n",
    "        \"has_lower\": has_lower,\n",
    "        \"has_space\": has_space,\n",
    "        \"has_special\": has_special\n",
    "    }\n",
    "\n",
    "# Prompt the user to enter a password\n",
    "password = input(\"Enter your password: \")\n",
    "\n",
    "# Perform checks\n",
    "results = check_password(password)\n",
    "\n",
    "# Print the results\n",
    "print(\"Password contains uppercase characters:\", results[\"has_upper\"])\n",
    "print(\"Password contains lowercase characters:\", results[\"has_lower\"])\n",
    "print(\"Password contains spaces:\", results[\"has_space\"])\n",
    "print(\"Password contains special characters:\", results[\"has_special\"])\n",
    "\n",
    "# Final result (True if all conditions are met, False otherwise)\n",
    "final_result = results[\"has_upper\"] and results[\"has_lower\"] and not results[\"has_space\"] and results[\"has_special\"]\n",
    "print(\"Is the password valid?\", final_result)"
   ]
  },
  {
   "cell_type": "markdown",
   "id": "8164e2d0-dc5a-4439-a196-1545e0a55139",
   "metadata": {},
   "source": [
    "10- You have a product code that follows the format \"SKU-12345-XYZ\". \n",
    "\n",
    "Find the first position of the dash (-).\n",
    "\n",
    "Count the number of dashes (-) in the product code.\n",
    "\n",
    "Remove the \"SKU-\" prefix and \"-XYZ\" suffix from the product code, Extract the numeric part 12345\n",
    "\n",
    "Hint: Use String Methods"
   ]
  },
  {
   "cell_type": "code",
   "execution_count": 60,
   "id": "414debf8-b964-435a-a5a7-da11bd1b770e",
   "metadata": {},
   "outputs": [
    {
     "name": "stdout",
     "output_type": "stream",
     "text": [
      "First position of the dash: 3\n",
      "Number of dashes in the product code: 2\n",
      "Extracted numeric part: 12345\n"
     ]
    }
   ],
   "source": [
    "# Product code\n",
    "product_code = \"SKU-12345-XYZ\"\n",
    "\n",
    "# Find the first position of the dash (-)\n",
    "first_dash_position = product_code.find('-')\n",
    "\n",
    "# Count the number of dashes (-) in the product code\n",
    "dash_count = product_code.count('-')\n",
    "\n",
    "# Remove the \"SKU-\" prefix and \"-XYZ\" suffix, and extract the numeric part (12345)\n",
    "numeric_part = product_code.split('-')[1]  # Split by '-' and take the second element\n",
    "\n",
    "# Print results\n",
    "print(f\"First position of the dash: {first_dash_position}\")\n",
    "print(f\"Number of dashes in the product code: {dash_count}\")\n",
    "print(f\"Extracted numeric part: {numeric_part}\")"
   ]
  }
 ],
 "metadata": {
  "kernelspec": {
   "display_name": "Python [conda env:base] *",
   "language": "python",
   "name": "conda-base-py"
  },
  "language_info": {
   "codemirror_mode": {
    "name": "ipython",
    "version": 3
   },
   "file_extension": ".py",
   "mimetype": "text/x-python",
   "name": "python",
   "nbconvert_exporter": "python",
   "pygments_lexer": "ipython3",
   "version": "3.12.7"
  }
 },
 "nbformat": 4,
 "nbformat_minor": 5
}
