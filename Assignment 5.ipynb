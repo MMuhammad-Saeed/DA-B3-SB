{
 "cells": [
  {
   "cell_type": "markdown",
   "id": "a758a746-ab4b-48b6-98dc-45093b46607d",
   "metadata": {},
   "source": [
    "1. Write a Python function called add_numbers that takes two numbers as arguments and returns their sum. Then, test the function by calling it with two numbers of your choice."
   ]
  },
  {
   "metadata": {
    "ExecuteTime": {
     "end_time": "2025-05-14T11:33:26.147224Z",
     "start_time": "2025-05-14T11:33:26.140861Z"
    }
   },
   "cell_type": "code",
   "source": [
    "def add_numbers(num1, num2):\n",
    "  \"\"\"\n",
    "  This function takes two numbers as arguments and returns their sum.\n",
    "\n",
    "  Args:\n",
    "    num1: The first number.\n",
    "    num2: The second number.\n",
    "\n",
    "  Returns:\n",
    "    The sum of num1 and num2.\n",
    "  \"\"\"\n",
    "  sum_result = num1 + num2\n",
    "  return sum_result\n",
    "\n",
    "# Test the function\n",
    "number1 = 15\n",
    "number2 = 25\n",
    "result = add_numbers(number1, number2)\n",
    "print(f\"The sum of {number1} and {number2} is: {result}\")"
   ],
   "id": "19c7afa2c649d15a",
   "outputs": [
    {
     "name": "stdout",
     "output_type": "stream",
     "text": [
      "The sum of 15 and 25 is: 40\n"
     ]
    }
   ],
   "execution_count": 2
  },
  {
   "cell_type": "markdown",
   "id": "73ff5400-836c-44ee-aeeb-0b84be9db4d8",
   "metadata": {},
   "source": [
    "2. Create a Python function called currency_converter() that takes two arguments:\n",
    "\n",
    "- amount: The amount of money to be converted (in USD).\n",
    "- exchange_rate (default is 280): The conversion rate from USD to another currency (e.g., PKR). You can assume the default rate is 1 USD = 280 PKR.\n",
    "\n",
    "The function should return a message showing how much the given amount is worth in the target currency (PKR)."
   ]
  },
  {
   "metadata": {
    "ExecuteTime": {
     "end_time": "2025-05-14T11:36:32.910296Z",
     "start_time": "2025-05-14T11:36:32.901927Z"
    }
   },
   "cell_type": "code",
   "source": [
    "def convert_usd_to_pkr(amount, exchange_rate=280):\n",
    "    \"\"\"\n",
    "    Converts a given amount from USD to PKR.\n",
    "\n",
    "    Args:\n",
    "        amount: The amount of money to be converted (in USD).\n",
    "        exchange_rate: The conversion rate from USD to PKR.\n",
    "                     Defaults to 280 if not provided.\n",
    "\n",
    "    Returns:\n",
    "        A string message showing the converted amount in PKR.\n",
    "    \"\"\"\n",
    "\n",
    "    pkr_amount = amount * exchange_rate\n",
    "    message = f\"{amount} USD is equal to {pkr_amount:.2f} PKR (Exchange Rate: 1 USD = {exchange_rate} PKR)\"\n",
    "    return message\n",
    "\n",
    "# function Test\n",
    "usd_amount = 100\n",
    "conversion_message = convert_usd_to_pkr(usd_amount)\n",
    "print(conversion_message)\n",
    "\n",
    "usd_amount = 50\n",
    "conversion_message = convert_usd_to_pkr(usd_amount, 300)  # Example with a different rate\n",
    "print(conversion_message)"
   ],
   "id": "d8eacecf920333e",
   "outputs": [
    {
     "name": "stdout",
     "output_type": "stream",
     "text": [
      "100 USD is equal to 28000.00 PKR (Exchange Rate: 1 USD = 280 PKR)\n",
      "50 USD is equal to 15000.00 PKR (Exchange Rate: 1 USD = 300 PKR)\n"
     ]
    }
   ],
   "execution_count": 3
  },
  {
   "cell_type": "markdown",
   "id": "0f49a1a2-234e-434f-bbc1-bb5ed293e2c4",
   "metadata": {},
   "source": [
    "3. Write a Python function display_student_info that accepts the following details about a student:\n",
    "\n",
    "- name (Keyword argument): The name of the student.\n",
    "- age (Keyword argument): The age of the student.\n",
    "- grade (Keyword argument): The grade the student is in.\n",
    "- school (Keyword argument): The name of the school the student attends."
   ]
  },
  {
   "metadata": {
    "ExecuteTime": {
     "end_time": "2025-05-14T11:38:11.549254Z",
     "start_time": "2025-05-14T11:38:11.540548Z"
    }
   },
   "cell_type": "code",
   "source": [
    "def display_student_info(name, age, grade, school):\n",
    "    \"\"\"\n",
    "    Displays information about a student.\n",
    "\n",
    "    Args:\n",
    "        name: The name of the student.\n",
    "        age: The age of the student.\n",
    "        grade: The grade the student is in.\n",
    "        school: The name of the school the student attends.\n",
    "    \"\"\"\n",
    "\n",
    "    print(\"Student Information:\")\n",
    "    print(f\"Name: {name}\")\n",
    "    print(f\"Age: {age}\")\n",
    "    print(f\"Grade: {grade}\")\n",
    "    print(f\"School: {school}\")\n",
    "\n",
    "\n",
    "# Example usage:\n",
    "display_student_info(name=\"Alice Smith\", age=16, grade=\"10th\", school=\"Central High School\")"
   ],
   "id": "9a39a10cf7269142",
   "outputs": [
    {
     "name": "stdout",
     "output_type": "stream",
     "text": [
      "Student Information:\n",
      "Name: Alice Smith\n",
      "Age: 16\n",
      "Grade: 10th\n",
      "School: Central High School\n"
     ]
    }
   ],
   "execution_count": 4
  },
  {
   "cell_type": "markdown",
   "id": "6bd6698d-f556-439a-981f-dfa0ef46ed9a",
   "metadata": {},
   "source": [
    "4. Write a Python function calculate_price that accepts two positional arguments:\n",
    "\n",
    "- price: The price of a single item.\n",
    "- quantity: The number of items bought.\n",
    "- The function should return the total price by multiplying price and quantity."
   ]
  },
  {
   "metadata": {
    "ExecuteTime": {
     "end_time": "2025-05-14T11:40:01.111616Z",
     "start_time": "2025-05-14T11:40:01.104622Z"
    }
   },
   "cell_type": "code",
   "source": [
    "def calculate_price(price, quantity):\n",
    "  \"\"\"\n",
    "  Calculates the total price of items.\n",
    "\n",
    "  Args:\n",
    "    price: The price of a single item.\n",
    "    quantity: The number of items bought.\n",
    "\n",
    "  Returns:\n",
    "    The total price.\n",
    "  \"\"\"\n",
    "  total_price = price * quantity\n",
    "  return total_price\n",
    "\n",
    "# Example Usage\n",
    "item_price = 25.50\n",
    "item_quantity = 10\n",
    "total = calculate_price(item_price, item_quantity)\n",
    "print(f\"The total price for {item_quantity} items at ${item_price} each is: ${total}\")"
   ],
   "id": "a14dfef07a51d61",
   "outputs": [
    {
     "name": "stdout",
     "output_type": "stream",
     "text": [
      "The total price for 10 items at $25.5 each is: $255.0\n"
     ]
    }
   ],
   "execution_count": 5
  },
  {
   "cell_type": "markdown",
   "id": "e589be97-b036-4b13-86b9-9d3312761a0c",
   "metadata": {},
   "source": [
    "5. Write a Python function display_prices that takes a product name and an arbitrary number of keyword arguments representing product prices. The function should display each product and its price.\n",
    "\n",
    "Product: Laptop\n",
    "\n",
    "Amazon: $800\n",
    "\n",
    "eBay: $750\n",
    "\n",
    "Walmart: $780"
   ]
  },
  {
   "metadata": {
    "ExecuteTime": {
     "end_time": "2025-05-14T11:41:49.839975Z",
     "start_time": "2025-05-14T11:41:49.834457Z"
    }
   },
   "cell_type": "code",
   "source": [
    "def display_prices(product_name, **prices):\n",
    "    \"\"\"\n",
    "    Displays the product name and its prices from various sources.\n",
    "\n",
    "    Args:\n",
    "        product_name: The name of the product (string).\n",
    "        **prices: Arbitrary keyword arguments representing price sources\n",
    "                and their corresponding prices (e.g., Amazon=\"$800\", eBay=\"$750\").\n",
    "    \"\"\"\n",
    "    print(f\"Product: {product_name}\")\n",
    "    for source, price in prices.items():\n",
    "        print(f\"{source}: {price}\")\n",
    "\n",
    "# Example Usage\n",
    "display_prices(\"Laptop\", Amazon=\"$800\", eBay=\"$750\", Walmart=\"$780\")"
   ],
   "id": "af42d5d47e6501d6",
   "outputs": [
    {
     "name": "stdout",
     "output_type": "stream",
     "text": [
      "Product: Laptop\n",
      "Amazon: $800\n",
      "eBay: $750\n",
      "Walmart: $780\n"
     ]
    }
   ],
   "execution_count": 6
  },
  {
   "cell_type": "markdown",
   "id": "5a5910f5-e54e-4515-8c98-c3898f96c1ca",
   "metadata": {},
   "source": [
    "6. Write a Python function find_max that takes any number of numerical arguments and returns the maximum number."
   ]
  },
  {
   "metadata": {
    "ExecuteTime": {
     "end_time": "2025-05-14T11:43:35.407219Z",
     "start_time": "2025-05-14T11:43:35.399151Z"
    }
   },
   "cell_type": "code",
   "source": [
    "def find_max(*numbers):\n",
    "    \"\"\"\n",
    "    Finds the maximum of any number of numerical arguments.\n",
    "\n",
    "    Args:\n",
    "        *numbers: Any number of numerical arguments.\n",
    "\n",
    "    Returns:\n",
    "        The maximum number among the arguments, or None if no arguments are provided.\n",
    "    \"\"\"\n",
    "    if not numbers:  # Check if no arguments were passed\n",
    "        return None\n",
    "\n",
    "    max_number = numbers[0]  # Initialize max_number with the first argument\n",
    "    for number in numbers[1:]:  # Iterate through the rest of the arguments\n",
    "        if number > max_number:\n",
    "            max_number = number\n",
    "    return max_number\n",
    "\n",
    "# Example Usage\n",
    "print(find_max(1, 5, 2, 9, 3))  # Output: 9\n",
    "print(find_max(10, 20, 5))     # Output: 20\n",
    "print(find_max(-5, -10, -2))    # Output: -2\n",
    "print(find_max(3.14, 2.71, 4.0)) # Output: 4.0\n",
    "print(find_max())             # Output: None"
   ],
   "id": "89feec3affff6094",
   "outputs": [
    {
     "name": "stdout",
     "output_type": "stream",
     "text": [
      "9\n",
      "20\n",
      "-2\n",
      "4.0\n",
      "None\n"
     ]
    }
   ],
   "execution_count": 7
  },
  {
   "cell_type": "markdown",
   "id": "44669d12-8201-466b-a8e8-f7538f3eb72f",
   "metadata": {},
   "source": [
    "7. Write a Python function display_info that takes:\n",
    "Positional arguments for the name and age of a person.\n",
    "Keyword arguments for other personal details like address, phone number, and email.\n",
    "Example Output:\n",
    "\n",
    "- Name: Alice\n",
    "- Age: 30\n",
    "- Other Details:\n",
    "    - address: 123 Main St\n",
    "    - phone: 123-456-7890\n",
    "    - email: alice@example.com"
   ]
  },
  {
   "metadata": {
    "ExecuteTime": {
     "end_time": "2025-05-14T11:45:05.292408Z",
     "start_time": "2025-05-14T11:45:05.284756Z"
    }
   },
   "cell_type": "code",
   "source": [
    "def display_info(name, age, **other_details):\n",
    "    \"\"\"\n",
    "    Displays the name and age of a person, along with other personal details.\n",
    "\n",
    "    Args:\n",
    "        name: The name of the person (positional argument).\n",
    "        age: The age of the person (positional argument).\n",
    "        **other_details:  Keyword arguments representing other personal details\n",
    "                        like address, phone number, and email.\n",
    "    \"\"\"\n",
    "    print(\"- Name:\", name)\n",
    "    print(\"- Age:\", age)\n",
    "    print(\"- Other Details:\")\n",
    "    for key, value in other_details.items():\n",
    "        print(f\"    - {key}: {value}\")\n",
    "\n",
    "# Example Usage\n",
    "display_info(\"Alice\", 30, address=\"123 Main St\", phone=\"123-456-7890\", email=\"alice@example.com\")"
   ],
   "id": "80e29d252012f7bc",
   "outputs": [
    {
     "name": "stdout",
     "output_type": "stream",
     "text": [
      "- Name: Alice\n",
      "- Age: 30\n",
      "- Other Details:\n",
      "    - address: 123 Main St\n",
      "    - phone: 123-456-7890\n",
      "    - email: alice@example.com\n"
     ]
    }
   ],
   "execution_count": 8
  },
  {
   "cell_type": "markdown",
   "id": "bdbfd749-11e9-46f5-ab44-624a2799b5ab",
   "metadata": {},
   "source": [
    "8. products = [ {\"name\": \"Laptop\", \"price\": 1200, \"in_stock\": True, \"discount\": 0.1}, {\"name\": \"Smartphone\", \"price\": 800, \"in_stock\": False, \"discount\": 0.05}, {\"name\": \"Headphones\", \"price\": 150, \"in_stock\": True, \"discount\": 0.2}, {\"name\": \"Smartwatch\", \"price\": 300, \"in_stock\": True, \"discount\": 0}, {\"name\": \"Keyboard\", \"price\": 100, \"in_stock\": True, \"discount\": 0.15} ]\n",
    "\n",
    "- Get names of in-stock products:\n",
    "\n",
    "*Use list comprehension to generate a list of names for the products that are in stock.\n",
    "\n",
    "- Calculate final prices for in-stock products after discount:\n",
    "\n",
    "*For products that have a discount, calculate the final price by applying the discount.\n",
    "\n",
    "*For products with no discount, keep the original price.\n",
    "\n",
    "- Generate a list of tuples with the product name and its final price.\n",
    "\n",
    "Example Output:\n",
    "\n",
    "- In-stock product names: ['Laptop', 'Headphones', 'Smartwatch', 'Keyboard']\n",
    "- Discounted prices: [('Laptop', 1080.0), ('Headphones', 120.0), ('Smartwatch', 300), ('Keyboard', 85.0)]"
   ]
  },
  {
   "metadata": {
    "ExecuteTime": {
     "end_time": "2025-05-14T11:46:21.746400Z",
     "start_time": "2025-05-14T11:46:21.740752Z"
    }
   },
   "cell_type": "code",
   "source": [
    "products = [\n",
    "    {\"name\": \"Laptop\", \"price\": 1200, \"in_stock\": True, \"discount\": 0.1},\n",
    "    {\"name\": \"Smartphone\", \"price\": 800, \"in_stock\": False, \"discount\": 0.05},\n",
    "    {\"name\": \"Headphones\", \"price\": 150, \"in_stock\": True, \"discount\": 0.2},\n",
    "    {\"name\": \"Smartwatch\", \"price\": 300, \"in_stock\": True, \"discount\": 0},\n",
    "    {\"name\": \"Keyboard\", \"price\": 100, \"in_stock\": True, \"discount\": 0.15}\n",
    "]\n",
    "\n",
    "# Get names of in-stock products\n",
    "in_stock_product_names = [product[\"name\"] for product in products if product[\"in_stock\"]]\n",
    "\n",
    "# Calculate final prices for in-stock products after discount\n",
    "discounted_prices = [(product[\"name\"], product[\"price\"] * (1 - product[\"discount\"]))\n",
    "                     for product in products if product[\"in_stock\"]]\n",
    "\n",
    "# Example Output\n",
    "print(\"In-stock product names:\", in_stock_product_names)\n",
    "print(\"Discounted prices:\", discounted_prices)"
   ],
   "id": "ed59c15765053339",
   "outputs": [
    {
     "name": "stdout",
     "output_type": "stream",
     "text": [
      "In-stock product names: ['Laptop', 'Headphones', 'Smartwatch', 'Keyboard']\n",
      "Discounted prices: [('Laptop', 1080.0), ('Headphones', 120.0), ('Smartwatch', 300), ('Keyboard', 85.0)]\n"
     ]
    }
   ],
   "execution_count": 9
  },
  {
   "cell_type": "markdown",
   "id": "82c385f9-3462-4bd5-9932-6494ba7f4ea4",
   "metadata": {},
   "source": [
    "9.Create a list of even numbers between 1 and 20. (List Comprehension)"
   ]
  },
  {
   "metadata": {
    "ExecuteTime": {
     "end_time": "2025-05-14T11:49:18.833608Z",
     "start_time": "2025-05-14T11:49:18.826955Z"
    }
   },
   "cell_type": "code",
   "source": [
    "even_numbers = [number for number in range(2, 21, 2)]\n",
    "print(even_numbers)"
   ],
   "id": "a67e35267b2d7e81",
   "outputs": [
    {
     "name": "stdout",
     "output_type": "stream",
     "text": [
      "[2, 4, 6, 8, 10, 12, 14, 16, 18, 20]\n"
     ]
    }
   ],
   "execution_count": 10
  },
  {
   "cell_type": "markdown",
   "id": "aade3ca0-7357-42c0-96c5-05152574ae76",
   "metadata": {},
   "source": [
    "10. Create a list of numbers, generate a new list containing only the numbers that are divisible by 3 or 5. (List Comprehension)"
   ]
  },
  {
   "metadata": {
    "ExecuteTime": {
     "end_time": "2025-05-14T11:50:47.905760Z",
     "start_time": "2025-05-14T11:50:47.898887Z"
    }
   },
   "cell_type": "code",
   "source": [
    "#original list of numbers\n",
    "numbers = [1, 2, 3, 4, 5, 6, 7, 8, 9, 10, 11, 12, 13, 14, 15, 16, 17, 18, 19, 20]\n",
    "\n",
    "# Use list comprehension to create a new list with numbers divisible by 3 or 5\n",
    "divisible_by_3_or_5 = [num for num in numbers if num % 3 == 0 or num % 5 == 0]\n",
    "\n",
    "# Print the original and new lists\n",
    "print(\"Original List:\", numbers)\n",
    "print(\"Numbers divisible by 3 or 5:\", divisible_by_3_or_5)"
   ],
   "id": "60f8bc89981701a0",
   "outputs": [
    {
     "name": "stdout",
     "output_type": "stream",
     "text": [
      "Original List: [1, 2, 3, 4, 5, 6, 7, 8, 9, 10, 11, 12, 13, 14, 15, 16, 17, 18, 19, 20]\n",
      "Numbers divisible by 3 or 5: [3, 5, 6, 9, 10, 12, 15, 18, 20]\n"
     ]
    }
   ],
   "execution_count": 11
  }
 ],
 "metadata": {
  "kernelspec": {
   "display_name": "Python [conda env:base] *",
   "language": "python",
   "name": "conda-base-py"
  },
  "language_info": {
   "codemirror_mode": {
    "name": "ipython",
    "version": 3
   },
   "file_extension": ".py",
   "mimetype": "text/x-python",
   "name": "python",
   "nbconvert_exporter": "python",
   "pygments_lexer": "ipython3",
   "version": "3.12.7"
  }
 },
 "nbformat": 4,
 "nbformat_minor": 5
}
