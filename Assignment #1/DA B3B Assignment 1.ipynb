{
 "cells": [
  {
   "cell_type": "markdown",
   "id": "2ca8b743-249d-47cc-b6bc-288c7032a2f2",
   "metadata": {},
   "source": [
    "1. Write a program that takes two numbers (a = 15 , b = 4) and prints their:\n",
    "\n",
    "\n",
    "- Sum\n",
    "\n",
    "- Difference\n",
    "\n",
    "- Product\n",
    "\n",
    "- Division\n",
    "\n",
    "- Floor Division\n",
    "\n",
    "- Modulus\n"
   ]
  },
  {
   "cell_type": "code",
   "execution_count": 6,
   "id": "358114e1-0f90-4055-b468-6f2ae47bd94d",
   "metadata": {},
   "outputs": [],
   "source": [
    "a=15\n",
    "b=4"
   ]
  },
  {
   "cell_type": "markdown",
   "id": "cd948524-e2a5-41b5-a888-c571b4bc8786",
   "metadata": {},
   "source": [
    "#Sum"
   ]
  },
  {
   "cell_type": "code",
   "execution_count": 9,
   "id": "a08a95fd-db21-41b0-aee2-75f1cc945042",
   "metadata": {},
   "outputs": [
    {
     "data": {
      "text/plain": [
       "19"
      ]
     },
     "execution_count": 9,
     "metadata": {},
     "output_type": "execute_result"
    }
   ],
   "source": [
    "a+b"
   ]
  },
  {
   "cell_type": "markdown",
   "id": "7fb22fbd-4a24-45d9-ae44-a242652a9cef",
   "metadata": {},
   "source": [
    "#Difference "
   ]
  },
  {
   "cell_type": "code",
   "execution_count": 12,
   "id": "3e720834-7128-4220-9cd8-83709781573c",
   "metadata": {},
   "outputs": [
    {
     "data": {
      "text/plain": [
       "11"
      ]
     },
     "execution_count": 12,
     "metadata": {},
     "output_type": "execute_result"
    }
   ],
   "source": [
    "a-b"
   ]
  },
  {
   "cell_type": "markdown",
   "id": "c81e7e78-d25c-4b7e-ae7f-6005375bbc35",
   "metadata": {},
   "source": [
    "#product"
   ]
  },
  {
   "cell_type": "code",
   "execution_count": 19,
   "id": "a070d369-c15d-4b89-9a56-5b68d3d4b321",
   "metadata": {},
   "outputs": [
    {
     "data": {
      "text/plain": [
       "60"
      ]
     },
     "execution_count": 19,
     "metadata": {},
     "output_type": "execute_result"
    }
   ],
   "source": [
    "a*b"
   ]
  },
  {
   "cell_type": "markdown",
   "id": "4a56d42f-969f-45aa-870f-a26075f7b12b",
   "metadata": {},
   "source": [
    "#Division"
   ]
  },
  {
   "cell_type": "code",
   "execution_count": 22,
   "id": "803ef83d-662b-44fa-b128-52d332da639e",
   "metadata": {},
   "outputs": [
    {
     "data": {
      "text/plain": [
       "3.75"
      ]
     },
     "execution_count": 22,
     "metadata": {},
     "output_type": "execute_result"
    }
   ],
   "source": [
    "a/b"
   ]
  },
  {
   "cell_type": "markdown",
   "id": "578b7314-d752-4cc3-89a7-53ca4705a14d",
   "metadata": {},
   "source": [
    "#Floor Division"
   ]
  },
  {
   "cell_type": "code",
   "execution_count": 24,
   "id": "d72416fb-c0e1-4cf9-9a95-4fd33ceebdcf",
   "metadata": {},
   "outputs": [
    {
     "data": {
      "text/plain": [
       "3"
      ]
     },
     "execution_count": 24,
     "metadata": {},
     "output_type": "execute_result"
    }
   ],
   "source": [
    "a//b"
   ]
  },
  {
   "cell_type": "markdown",
   "id": "5a18f900-8b73-4d32-ba40-03ff55a219d7",
   "metadata": {},
   "source": [
    "#Modulus"
   ]
  },
  {
   "cell_type": "code",
   "execution_count": 29,
   "id": "e850c222-2e04-4f39-8798-861bf30bf5c2",
   "metadata": {},
   "outputs": [
    {
     "data": {
      "text/plain": [
       "3"
      ]
     },
     "execution_count": 29,
     "metadata": {},
     "output_type": "execute_result"
    }
   ],
   "source": [
    "a%b"
   ]
  },
  {
   "cell_type": "markdown",
   "id": "323137d4-4794-4b18-9c02-0444e4323157",
   "metadata": {},
   "source": [
    "2. Convert the following: \n",
    "(num1 = 10, num2 = 5.6, num3 = 4.43)\n",
    "\n",
    "- Integer to float\n",
    "\n",
    "- Float to integer\n",
    "\n",
    "- Float to String"
   ]
  },
  {
   "cell_type": "code",
   "execution_count": 39,
   "id": "81d63265-84d9-4532-bb54-98fa16535186",
   "metadata": {},
   "outputs": [],
   "source": [
    "num1 = 10\n",
    "num2 = 5.6\n",
    "num3 = 4.43"
   ]
  },
  {
   "cell_type": "markdown",
   "id": "9208083d-4a6b-418b-ac61-6efd221c7f7c",
   "metadata": {},
   "source": [
    "#Type Conversion"
   ]
  },
  {
   "cell_type": "code",
   "execution_count": 67,
   "id": "36a0e6bf-59c0-4858-9fa6-37acfa7139d8",
   "metadata": {},
   "outputs": [
    {
     "name": "stdout",
     "output_type": "stream",
     "text": [
      "10.0\n",
      "5\n",
      "4.43\n",
      "<class 'float'>\n",
      "<class 'int'>\n",
      "<class 'str'>\n"
     ]
    }
   ],
   "source": [
    "num4=float(num1)\n",
    "num5=int(num2)\n",
    "num6=str(num3)\n",
    "print (num4)\n",
    "print (num5)\n",
    "print(num6)\n",
    "print(type(num4))\n",
    "print(type(num5))\n",
    "print(type(num6))"
   ]
  },
  {
   "cell_type": "markdown",
   "id": "b6a8f851-44c6-4906-a0db-344672319251",
   "metadata": {},
   "source": [
    "3. fruits = [\"apple\", \"banana\", \"cherry\", \"coconut\", \"pineapple\", \"mango\", \"orange\"]\n",
    "\n",
    "Print below using indexing:\n",
    "\n",
    "- The first fruit\n",
    "\n",
    "- The last fruit (negative indexing)\n",
    "\n",
    "- The fourth fruit"
   ]
  },
  {
   "cell_type": "code",
   "execution_count": 72,
   "id": "d4b5d6d9-f599-462f-afa9-21a7572b6025",
   "metadata": {},
   "outputs": [],
   "source": [
    "fruits = [\"apple\", \"banana\", \"cherry\", \"coconut\", \"pineapple\", \"mango\", \"orange\"]"
   ]
  },
  {
   "cell_type": "code",
   "execution_count": 80,
   "id": "1fe51443-67e7-4a7b-a351-fd364675a2ff",
   "metadata": {},
   "outputs": [
    {
     "name": "stdout",
     "output_type": "stream",
     "text": [
      "apple\n",
      "orange\n",
      "coconut\n"
     ]
    }
   ],
   "source": [
    "print(fruits[0])\n",
    "print(fruits[-1])\n",
    "print(fruits[3])"
   ]
  },
  {
   "cell_type": "markdown",
   "id": "02eb9ef7-85ad-4036-93c4-5c3f27346ab4",
   "metadata": {},
   "source": [
    "4. List Slicing\n",
    "\n",
    "numbers = [10, 20, 30, 40, 50]\n",
    "\n",
    "Print:\n",
    "\n",
    "- First three elements\n",
    "\n",
    "- Last two elements\n",
    "\n",
    "- Print all elements except the first one\n",
    "\n",
    "- Print all elements except the last one\n",
    "\n",
    "- Print the list in reverse using slicing\n",
    "\n",
    "-  Print every second element"
   ]
  },
  {
   "cell_type": "markdown",
   "id": "96687505-53b4-4f33-a106-5fa25dee1fa6",
   "metadata": {},
   "source": [
    "#Define LIst numbers"
   ]
  },
  {
   "cell_type": "code",
   "execution_count": 3,
   "id": "1d0067d0-b19b-4dc4-9e0b-c89d5ec8d462",
   "metadata": {},
   "outputs": [
    {
     "data": {
      "text/plain": [
       "[10, 20, 30, 40, 50]"
      ]
     },
     "execution_count": 3,
     "metadata": {},
     "output_type": "execute_result"
    }
   ],
   "source": [
    "numbers =[10,20,30,40,50]\n",
    "numbers"
   ]
  },
  {
   "cell_type": "code",
   "execution_count": 35,
   "id": "8498b157-bc03-4a72-a96c-893293b25252",
   "metadata": {},
   "outputs": [
    {
     "name": "stdout",
     "output_type": "stream",
     "text": [
      "[10, 20, 30]\n",
      "[40, 50]\n",
      "[20, 30, 40, 50]\n",
      "[10, 20, 30, 40]\n",
      "[50, 40, 30, 20, 10]\n"
     ]
    }
   ],
   "source": [
    "print(numbers[0:3]) #first 3 elements\n",
    "print(numbers[-2:]) # lst 2 numbers\n",
    "print(numbers[1:]) # all except 1\n",
    "print(numbers[:-1]) # all excopt last\n",
    "print(numbers[::-1])# list in reverse order"
   ]
  },
  {
   "cell_type": "markdown",
   "id": "ca5024d0-feea-40ec-b36d-aa333ea27760",
   "metadata": {},
   "source": [
    "5. Add the number 10 to the end of the list using method.\n",
    "\n",
    "nums = [1, 2, 3]\n"
   ]
  },
  {
   "cell_type": "code",
   "execution_count": null,
   "id": "be12b4b4-2a89-47e5-b019-f727324334a0",
   "metadata": {},
   "outputs": [],
   "source": [
    "Inserting at the end through using append method"
   ]
  },
  {
   "cell_type": "code",
   "execution_count": 11,
   "id": "afbdf35b-8d24-40e5-8482-18d408790b0a",
   "metadata": {},
   "outputs": [
    {
     "data": {
      "text/plain": [
       "[1, 2, 3, 10]"
      ]
     },
     "execution_count": 11,
     "metadata": {},
     "output_type": "execute_result"
    }
   ],
   "source": [
    "nums=[1,2,3]\n",
    "nums.append(10)\n",
    "nums"
   ]
  },
  {
   "cell_type": "markdown",
   "id": "cac03c9e-a77a-4f9f-b148-315ca1a228de",
   "metadata": {},
   "source": [
    "6. Insert the number 99 at index 1 using method.\n",
    "\n",
    "nums = [1, 2, 3]\n"
   ]
  },
  {
   "cell_type": "code",
   "execution_count": 13,
   "id": "377ee8b9-b7f0-470d-ae8a-6c99dcd29326",
   "metadata": {},
   "outputs": [
    {
     "name": "stdout",
     "output_type": "stream",
     "text": [
      "[99, 1, 2, 3, 10]\n"
     ]
    }
   ],
   "source": [
    "nums.insert(0, 99)\n",
    "print(nums)"
   ]
  },
  {
   "cell_type": "markdown",
   "id": "755179b2-5aa8-4ba9-bb07-4054b83cf3f0",
   "metadata": {},
   "source": [
    "7.  Add the elements of another list [4, 5] to the original list using method\n",
    "\n",
    "nums = [1, 2, 3]"
   ]
  },
  {
   "cell_type": "code",
   "execution_count": 17,
   "id": "93e14bea-ae32-4360-a1a3-7ed2f0bae7ed",
   "metadata": {},
   "outputs": [
    {
     "name": "stdout",
     "output_type": "stream",
     "text": [
      "[99, 1, 2, 3, 10, 4, 5]\n"
     ]
    }
   ],
   "source": [
    "nums1=[4,5]\n",
    "nums.extend(nums1)\n",
    "print(nums)"
   ]
  },
  {
   "cell_type": "markdown",
   "id": "77c3acdf-c270-46b4-a620-e02e59b63f76",
   "metadata": {},
   "source": [
    "8.  Sort the list in ascending order using method\n",
    "\n",
    "nums = [4, 1, 3, 2]"
   ]
  },
  {
   "cell_type": "code",
   "execution_count": 23,
   "id": "8a5ef677-037a-4032-8b50-410194f48907",
   "metadata": {},
   "outputs": [
    {
     "name": "stdout",
     "output_type": "stream",
     "text": [
      "[1, 2, 3, 4]\n"
     ]
    }
   ],
   "source": [
    "nums=[4,1,3,2]\n",
    "nums.sort()\n",
    "print(nums)"
   ]
  },
  {
   "cell_type": "markdown",
   "id": "471d609a-55e8-4227-a8fd-d6ef73628bf5",
   "metadata": {},
   "source": [
    "9. A customer orders several food items. Add the items to a list and then:\n",
    "\n",
    "order = [\"burger\", \"fries\", \"coke\"]\n",
    "\n",
    "- Add a new item \"ice cream\" using append()\n",
    "\n",
    "- Remove an item \"biryani\" using remove()\n",
    "\n",
    "- Show the final order"
   ]
  },
  {
   "cell_type": "code",
   "execution_count": 29,
   "id": "a3c9146c-77b3-4fba-916c-a5e946d44ca6",
   "metadata": {},
   "outputs": [
    {
     "name": "stdout",
     "output_type": "stream",
     "text": [
      "['burger', 'fries', 'coke', 'biryani']\n"
     ]
    }
   ],
   "source": [
    "order=['burger', 'fries', 'coke', 'biryani']\n",
    "print(order)"
   ]
  },
  {
   "cell_type": "code",
   "execution_count": 31,
   "id": "ab8c5270-e1d1-47a5-aca5-000d7072ecf5",
   "metadata": {},
   "outputs": [
    {
     "name": "stdout",
     "output_type": "stream",
     "text": [
      "['burger', 'fries', 'coke', 'biryani', 'ice cream']\n"
     ]
    }
   ],
   "source": [
    "order.append(\"ice cream\")\n",
    "print(order)"
   ]
  },
  {
   "cell_type": "code",
   "execution_count": 33,
   "id": "b78605b8-f38a-4eb9-962f-77bd5cd3800d",
   "metadata": {},
   "outputs": [
    {
     "name": "stdout",
     "output_type": "stream",
     "text": [
      "['burger', 'fries', 'coke', 'ice cream']\n"
     ]
    }
   ],
   "source": [
    "order.remove('biryani')\n",
    "print(order)"
   ]
  },
  {
   "cell_type": "markdown",
   "id": "5bdde849-44d9-4ab6-b496-fb125d9b73bd",
   "metadata": {},
   "source": [
    "10. Track passengers on a bus:\n",
    "\n",
    "passengers = [\"Ali\", \"Zara\", \"Ahmed\"]\n",
    "\n",
    "\n",
    "- Insert a new passenger \"Sara\" at position 2\n",
    "\n",
    "- Remove passesnger who got off \"Zara\"\n",
    "\n",
    "- Reverse the order to show who entered first"
   ]
  },
  {
   "cell_type": "code",
   "execution_count": 3,
   "id": "2b0c751a-63f3-4270-947a-bd4942a3a62e",
   "metadata": {},
   "outputs": [
    {
     "name": "stdout",
     "output_type": "stream",
     "text": [
      "['Ali', 'Zara', 'Ahmed']\n"
     ]
    }
   ],
   "source": [
    "passengers=['Ali', 'Zara', 'Ahmed']\n",
    "print(passengers)"
   ]
  },
  {
   "cell_type": "code",
   "execution_count": 5,
   "id": "5d34ff6f-eb9a-416e-bd4a-9950dc99561b",
   "metadata": {},
   "outputs": [
    {
     "name": "stdout",
     "output_type": "stream",
     "text": [
      "['Ali', 'Sara', 'Zara', 'Ahmed']\n"
     ]
    }
   ],
   "source": [
    "passengers.insert(1, 'Sara')\n",
    "print(passengers)"
   ]
  },
  {
   "cell_type": "code",
   "execution_count": 7,
   "id": "593f6f0a-6556-4d99-b9b2-fe19f97f664c",
   "metadata": {},
   "outputs": [
    {
     "name": "stdout",
     "output_type": "stream",
     "text": [
      "['Ali', 'Sara', 'Ahmed']\n"
     ]
    }
   ],
   "source": [
    "passengers.remove('Zara')\n",
    "print(passengers)"
   ]
  },
  {
   "cell_type": "code",
   "execution_count": 9,
   "id": "6e565186-d1d4-4967-baba-fa8ae9744ba3",
   "metadata": {},
   "outputs": [
    {
     "name": "stdout",
     "output_type": "stream",
     "text": [
      "['Ahmed', 'Sara', 'Ali']\n"
     ]
    }
   ],
   "source": [
    "passengers.reverse()\n",
    "print(passengers)"
   ]
  },
  {
   "cell_type": "code",
   "execution_count": null,
   "id": "8eba571b-8762-4954-b900-001aabaf60df",
   "metadata": {},
   "outputs": [],
   "source": []
  }
 ],
 "metadata": {
  "kernelspec": {
   "display_name": "Python [conda env:base] *",
   "language": "python",
   "name": "conda-base-py"
  },
  "language_info": {
   "codemirror_mode": {
    "name": "ipython",
    "version": 3
   },
   "file_extension": ".py",
   "mimetype": "text/x-python",
   "name": "python",
   "nbconvert_exporter": "python",
   "pygments_lexer": "ipython3",
   "version": "3.12.7"
  }
 },
 "nbformat": 4,
 "nbformat_minor": 5
}
