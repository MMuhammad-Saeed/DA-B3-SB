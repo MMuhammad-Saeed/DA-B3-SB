{
 "cells": [
  {
   "cell_type": "markdown",
   "id": "d8803f63-0e40-4680-bd92-534fa799d583",
   "metadata": {},
   "source": [
    "# Session 3"
   ]
  },
  {
   "cell_type": "code",
   "execution_count": 1,
   "id": "f4a026f4-153e-4088-8cfb-183ecaa97069",
   "metadata": {},
   "outputs": [],
   "source": [
    "my_list = [\"Saeed\", 58, \"honest\", \"angry\", 5.11, 61.2]"
   ]
  },
  {
   "cell_type": "code",
   "execution_count": 3,
   "id": "0c680d4f-59b0-45f0-a75e-164f5dbd963b",
   "metadata": {},
   "outputs": [
    {
     "data": {
      "text/plain": [
       "['Saeed', 58, 'honest', 'angry', 5.11, 61.2]"
      ]
     },
     "execution_count": 3,
     "metadata": {},
     "output_type": "execute_result"
    }
   ],
   "source": [
    "my_list"
   ]
  },
  {
   "cell_type": "code",
   "execution_count": 5,
   "id": "b37ea9b3-5e7d-42a5-a203-409b5735d4cf",
   "metadata": {},
   "outputs": [
    {
     "data": {
      "text/plain": [
       "'angry'"
      ]
     },
     "execution_count": 5,
     "metadata": {},
     "output_type": "execute_result"
    }
   ],
   "source": [
    "my_list[3]"
   ]
  },
  {
   "cell_type": "code",
   "execution_count": 7,
   "id": "89c4f808-72cf-4802-bacf-9d349780a257",
   "metadata": {},
   "outputs": [
    {
     "data": {
      "text/plain": [
       "61.2"
      ]
     },
     "execution_count": 7,
     "metadata": {},
     "output_type": "execute_result"
    }
   ],
   "source": [
    "my_list[5]"
   ]
  },
  {
   "cell_type": "code",
   "execution_count": null,
   "id": "02ff392f-a1c0-479e-a93d-97245e34af98",
   "metadata": {},
   "outputs": [],
   "source": []
  }
 ],
 "metadata": {
  "kernelspec": {
   "display_name": "Python [conda env:base] *",
   "language": "python",
   "name": "conda-base-py"
  },
  "language_info": {
   "codemirror_mode": {
    "name": "ipython",
    "version": 3
   },
   "file_extension": ".py",
   "mimetype": "text/x-python",
   "name": "python",
   "nbconvert_exporter": "python",
   "pygments_lexer": "ipython3",
   "version": "3.12.7"
  }
 },
 "nbformat": 4,
 "nbformat_minor": 5
}
