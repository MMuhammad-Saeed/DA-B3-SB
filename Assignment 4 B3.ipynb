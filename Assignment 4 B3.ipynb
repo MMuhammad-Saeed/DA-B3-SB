{
 "cells": [
  {
   "cell_type": "markdown",
   "id": "ded69d83-04af-41d6-8e49-609befccff3f",
   "metadata": {},
   "source": [
    "Q1.\n",
    "\n",
    "An e-commerce store stores information about its products in a nested dictionary. The outer dictionary uses product IDs as keys, and the inner dictionary stores product details like name, category, price, and stock quantity. products = { 101: {\"name\": \"Laptop\", \"category\": \"Electronics\", \"price\": 1200, \"stock\": 50}, 102: {\"name\": \"Shirt\", \"category\": \"Apparel\", \"price\": 25, \"stock\": 200}, 103: {\"name\": \"Coffee Maker\", \"category\": \"Home Appliances\", \"price\": 80, \"stock\": 30} }\n",
    "\n",
    "• Increase the stock of the \"Shirt\" product (add 50 more units)\n",
    "\n",
    "• Add a new product (e.g., \"Smartphone\")"
   ]
  },
  {
   "metadata": {
    "ExecuteTime": {
     "end_time": "2025-05-09T07:39:22.719169Z",
     "start_time": "2025-05-09T07:39:22.710113Z"
    }
   },
   "cell_type": "code",
   "source": [
    "product_info ={\n",
    "    '101': {'name': 'Laptop', 'category': 'Electronics', 'price': 1200, 'stock': 50},\n",
    "    '102': {'name': 'Shirt', 'category': 'Apparel', 'price': 25, 'stock': 200},\n",
    "    '103': {'name': 'Coffee Maker', 'category': 'Home Appliances', 'price': 80, 'stock': 30}\n",
    "}"
   ],
   "id": "67dbc8e0dd4e936b",
   "outputs": [],
   "execution_count": 1
  },
  {
   "metadata": {
    "ExecuteTime": {
     "end_time": "2025-05-09T07:39:26.195340Z",
     "start_time": "2025-05-09T07:39:26.188336Z"
    }
   },
   "cell_type": "code",
   "source": [
    "product_info['102']['stock'] += 50\n",
    "product_info['104'] = {'name': 'Smartphone', 'category': 'Electronics', 'price': 1000, 'stock': 10}\n",
    "print(product_info)"
   ],
   "id": "a07c55f46b59b66e",
   "outputs": [
    {
     "name": "stdout",
     "output_type": "stream",
     "text": [
      "{'101': {'name': 'Laptop', 'category': 'Electronics', 'price': 1200, 'stock': 50}, '102': {'name': 'Shirt', 'category': 'Apparel', 'price': 25, 'stock': 250}, '103': {'name': 'Coffee Maker', 'category': 'Home Appliances', 'price': 80, 'stock': 30}, '104': {'name': 'Smartphone', 'category': 'Electronics', 'price': 1000, 'stock': 10}}\n"
     ]
    }
   ],
   "execution_count": 2
  },
  {
   "cell_type": "markdown",
   "id": "e10a9a28-2eb0-415e-a90c-41e3e1b2853e",
   "metadata": {},
   "source": [
    "Q2.\n",
    "\n",
    "You are given a list that contains some duplicate items. Remove the duplicates\n",
    "\n",
    "shopping_list = [\"apple\", \"banana\", \"apple\", \"orange\", \"banana\", \"grape\"]"
   ]
  },
  {
   "metadata": {
    "ExecuteTime": {
     "end_time": "2025-05-09T07:44:07.017846Z",
     "start_time": "2025-05-09T07:44:07.011590Z"
    }
   },
   "cell_type": "code",
   "source": [
    "shopping_list = [\"apple\", \"banana\", \"apple\", \"orange\", \"banana\", \"grape\"]\n",
    "shopping_list_set = set(shopping_list)\n",
    "print(shopping_list_set)"
   ],
   "id": "65eb77a865fbf1b",
   "outputs": [
    {
     "name": "stdout",
     "output_type": "stream",
     "text": [
      "{'apple', 'grape', 'orange', 'banana'}\n"
     ]
    }
   ],
   "execution_count": 5
  },
  {
   "cell_type": "markdown",
   "id": "0a62bc87-09d4-44c1-8311-2d3c6867511b",
   "metadata": {},
   "source": [
    "Q3.\n",
    "\n",
    "You are managing a list of students enrolled in two different courses. You need to perform various set operations to understand the student enrollment. Task: Create two sets: one for students in \"Course A\" and one for students in \"Course B\". Find the students who are in \"Course A\" but not in \"Course B\" (difference). Find students who are only in one of the two courses (symmetric difference). \n",
    "\n",
    "course_a = {\"John\", \"Alice\", \"Bob\", \"David\"} \n",
    "\n",
    "course_b = {\"Alice\", \"Eve\", \"Charlie\", \"David\"}\n",
    "\n",
    "• Find students who are in Course A but not in Course B (difference)\n",
    "\n",
    "• Find students who are only in one of the two courses (symmetric difference)"
   ]
  },
  {
   "metadata": {
    "ExecuteTime": {
     "end_time": "2025-05-09T07:45:13.229583Z",
     "start_time": "2025-05-09T07:45:13.224231Z"
    }
   },
   "cell_type": "code",
   "source": [
    "course_a = {\"John\", \"Alice\", \"Bob\", \"David\"}\n",
    "\n",
    "course_b = {\"Alice\", \"Eve\", \"Charlie\", \"David\"}"
   ],
   "id": "780ba0b578cf5d4e",
   "outputs": [],
   "execution_count": 6
  },
  {
   "metadata": {
    "ExecuteTime": {
     "end_time": "2025-05-09T07:48:59.264120Z",
     "start_time": "2025-05-09T07:48:59.258783Z"
    }
   },
   "cell_type": "code",
   "source": [
    "difference1 = course_b.difference(course_a)\n",
    "print(difference1)"
   ],
   "id": "5fdb66169dbbb8b5",
   "outputs": [
    {
     "name": "stdout",
     "output_type": "stream",
     "text": [
      "{'Charlie', 'Eve'}\n"
     ]
    }
   ],
   "execution_count": 10
  },
  {
   "metadata": {
    "ExecuteTime": {
     "end_time": "2025-05-09T07:50:46.918818Z",
     "start_time": "2025-05-09T07:50:46.907300Z"
    }
   },
   "cell_type": "code",
   "source": [
    "difference2= course_a.symmetric_difference(course_b)\n",
    "print(difference2)"
   ],
   "id": "3c6e5244811f39a2",
   "outputs": [
    {
     "name": "stdout",
     "output_type": "stream",
     "text": [
      "{'Eve', 'Bob', 'Charlie', 'John'}\n"
     ]
    }
   ],
   "execution_count": 11
  },
  {
   "cell_type": "markdown",
   "id": "822000b2-e437-4d5d-9fff-2bded3b347cb",
   "metadata": {},
   "source": [
    "Q4.\n",
    "\n",
    "Write a Python program that calculates the sum of all even numbers between 1 and 50 (inclusive) using a for loop.\n",
    "\n",
    "Hint\n",
    "\n",
    "- Initialize a variable to hold the sum (e.g., sum_of_evens).\n",
    "- Use a for loop to iterate through all numbers from 1 to 50.\n",
    "- Inside the loop, check if the number is even.\n",
    "- If the number is even, add it to sum_of_evens.\n",
    "- After the loop finishes, print the total sum of all even numbers between 1 and 50."
   ]
  },
  {
   "metadata": {
    "ExecuteTime": {
     "end_time": "2025-05-09T08:08:15.703119Z",
     "start_time": "2025-05-09T08:08:15.696734Z"
    }
   },
   "cell_type": "code",
   "source": [
    "# To initialize the sum variable\n",
    "sum_of_evens = 0\n",
    "\n",
    "# Loop through numbers from 1 to 50\n",
    "for number in range(1, 51):\n",
    "    if number % 2 == 0:\n",
    "        sum_of_evens += number\n",
    "\n",
    "# Print the total sum\n",
    "print(\"The sum of all even numbers between 1 and 50 is:\", sum_of_evens)"
   ],
   "id": "b7bda5464deb57aa",
   "outputs": [
    {
     "name": "stdout",
     "output_type": "stream",
     "text": [
      "The sum of all even numbers between 1 and 50 is: 650\n"
     ]
    }
   ],
   "execution_count": 5
  },
  {
   "cell_type": "markdown",
   "id": "b6529e21-c453-48f0-acee-54044715bc1d",
   "metadata": {},
   "source": [
    "Q5. Power of a Number Write a Python program that takes a number and prints the powers of the number (starting from 1 to 10) using a while loop. For example, if the user inputs 3, the output should be:\n",
    "\n",
    "3^1 = 3\n",
    "\n",
    "3^2 = 9\n",
    "\n",
    "3^3 = 27\n",
    "\n",
    "... up to 3^10."
   ]
  },
  {
   "metadata": {
    "ExecuteTime": {
     "end_time": "2025-05-09T08:38:57.373676Z",
     "start_time": "2025-05-09T08:38:51.621494Z"
    }
   },
   "cell_type": "code",
   "source": [
    "# Get input from the user\n",
    "number = int(input(\"Enter a number: \"))\n",
    "\n",
    "# Initialize exponent\n",
    "exponent = 1\n",
    "\n",
    "# Use while loop to calculate and print powers from 1 to 10\n",
    "while exponent <= 10:\n",
    "    result = number ** exponent\n",
    "    print( str(number),'^', str(exponent), \"=\", str(result))\n",
    "    exponent += 1"
   ],
   "id": "1f7f7f28f48d8295",
   "outputs": [
    {
     "name": "stdout",
     "output_type": "stream",
     "text": [
      "6 ^ 1 = 6\n",
      "6 ^ 2 = 36\n",
      "6 ^ 3 = 216\n",
      "6 ^ 4 = 1296\n",
      "6 ^ 5 = 7776\n",
      "6 ^ 6 = 46656\n",
      "6 ^ 7 = 279936\n",
      "6 ^ 8 = 1679616\n",
      "6 ^ 9 = 10077696\n",
      "6 ^ 10 = 60466176\n"
     ]
    }
   ],
   "execution_count": 16
  },
  {
   "cell_type": "markdown",
   "id": "17616e00-7421-4145-8177-c27d67f85b18",
   "metadata": {},
   "source": [
    "Q6. \n",
    "\n",
    "Problem Statement: Write a Python program that takes an integer input from the user and counts down from that number to 0. The program should display the current number at each step until it reaches 0, at which point it should print a message indicating the countdown is finished\n",
    "\n",
    "Output Hint:\n",
    "\n",
    "Enter a number to start the countdown: 3\n",
    "\n",
    "3\n",
    "\n",
    "2\n",
    "\n",
    "1\n",
    "\n",
    "0\n",
    "\n",
    "Countdown finished!"
   ]
  },
  {
   "metadata": {
    "ExecuteTime": {
     "end_time": "2025-05-09T08:26:04.787247Z",
     "start_time": "2025-05-09T08:25:57.839129Z"
    }
   },
   "cell_type": "code",
   "source": [
    "# Getting integer input from the user\n",
    "number = int(input(\"Enter a starting number for countdown: \"))\n",
    "\n",
    "# use Countdown in while loop\n",
    "while number >= 0:\n",
    "    print(number)\n",
    "    number -= 1\n",
    "\n",
    "# Print final message\n",
    "print(\"Countdown finished!\")"
   ],
   "id": "cda4912804b494e7",
   "outputs": [
    {
     "name": "stdout",
     "output_type": "stream",
     "text": [
      "9\n",
      "8\n",
      "7\n",
      "6\n",
      "5\n",
      "4\n",
      "3\n",
      "2\n",
      "1\n",
      "0\n",
      "Countdown finished!\n"
     ]
    }
   ],
   "execution_count": 7
  },
  {
   "cell_type": "markdown",
   "id": "cfe42689-a235-4920-a4d2-2b0cbb8e51c6",
   "metadata": {},
   "source": [
    "Q7.\n",
    "\n",
    "Write a Python program that takes a number as input from the user and calculates its factorial using a for loop. The program should display the result to the user.\n",
    "\n",
    "Example Input/Output:\n",
    "\n",
    "Input:\n",
    "5\n",
    "\n",
    "Output:\n",
    "The factorial of 5 is 120"
   ]
  },
  {
   "metadata": {
    "ExecuteTime": {
     "end_time": "2025-05-09T08:34:44.869765Z",
     "start_time": "2025-05-09T08:34:41.473282Z"
    }
   },
   "cell_type": "code",
   "source": [
    "#  input from the user\n",
    "number = int(input(\"Enter a non-negative integer: \"))\n",
    "\n",
    "factorial = 1\n",
    "\n",
    "if number < 0:\n",
    "    print(\"Factorial is not defined for negative numbers.\")\n",
    "else:\n",
    "    # Calculations\n",
    "    for i in range(1, number + 1):\n",
    "        factorial *= i\n",
    "\n",
    "    # Display the result\n",
    "    print(\"The factorial of\",str(number),'is :', str(factorial))"
   ],
   "id": "522bbd91cafa661a",
   "outputs": [
    {
     "name": "stdout",
     "output_type": "stream",
     "text": [
      "The factorial of 6 is : 720\n"
     ]
    }
   ],
   "execution_count": 13
  },
  {
   "cell_type": "markdown",
   "id": "ee8b3ea5-fe2f-40eb-bcb0-a7ebca6811e0",
   "metadata": {},
   "source": [
    "Q8.\n",
    "\n",
    "Create an empty dictionary called person_info.\n",
    "\n",
    "Assign the following key-value pairs to the dictionary:\n",
    "\n",
    "\"name\": \"Alice\"\n",
    "\n",
    "\"age\": 25\n",
    "\n",
    "\"occupation\": \"Engineer\"\n",
    "\n",
    "After assigning the values, print the dictionary."
   ]
  },
  {
   "metadata": {
    "ExecuteTime": {
     "end_time": "2025-05-09T08:41:25.595006Z",
     "start_time": "2025-05-09T08:41:25.587781Z"
    }
   },
   "cell_type": "code",
   "source": [
    "person_info1 = {}\n",
    "\n",
    "# Assign key-value pairs\n",
    "person_info1[\"name\"] = \"Alice\"\n",
    "person_info1[\"age\"] = 25\n",
    "person_info1[\"occupation\"] = \"Engineer\"\n",
    "print(person_info1)"
   ],
   "id": "80d5ce50eb1c1011",
   "outputs": [
    {
     "name": "stdout",
     "output_type": "stream",
     "text": [
      "{'name': 'Alice', 'age': 25, 'occupation': 'Engineer'}\n"
     ]
    }
   ],
   "execution_count": 17
  },
  {
   "cell_type": "markdown",
   "id": "252146ac-80e2-4961-bd0b-39c9821f9e04",
   "metadata": {},
   "source": [
    "Q9. Printing a right-angled triangle pattern (with NESTED while loop)"
   ]
  },
  {
   "cell_type": "code",
   "execution_count": null,
   "id": "5719c1be-5aa4-4f6a-96a0-a66e2e3983f1",
   "metadata": {},
   "outputs": [],
   "source": [
    "* \n",
    "* * \n",
    "* * * \n",
    "* * * * \n",
    "* * * * *"
   ]
  },
  {
   "metadata": {
    "ExecuteTime": {
     "end_time": "2025-05-09T08:44:53.732053Z",
     "start_time": "2025-05-09T08:44:53.725885Z"
    }
   },
   "cell_type": "code",
   "source": [
    "# Set the number of rows (hardcoded)\n",
    "rows = 5\n",
    "\n",
    "# Outer loop\n",
    "i = 1\n",
    "while i <= rows:\n",
    "    # Inner loop\n",
    "    j = 1\n",
    "    while j <= i:\n",
    "        print(\"*\", end=\"\")\n",
    "        j += 1\n",
    "    print()  # Newline after each row\n",
    "    i += 1"
   ],
   "id": "8884c09ece35e756",
   "outputs": [
    {
     "name": "stdout",
     "output_type": "stream",
     "text": [
      "*\n",
      "**\n",
      "***\n",
      "****\n",
      "*****\n"
     ]
    }
   ],
   "execution_count": 18
  },
  {
   "cell_type": "markdown",
   "id": "c8e1c594-6022-4dc6-8a7b-e2c3f36c798a",
   "metadata": {},
   "source": [
    "Q10.\n",
    "\n",
    "Write a Python program that does the following:\n",
    "\n",
    "Range: Loop through numbers from 1 to 20 (inclusive).\n",
    "\n",
    "Continue: If the number is divisible by 4, skip that iteration and move to the next number.\n",
    "\n",
    "Break: If the number is divisible by 7, stop the loop entirely.\n",
    "\n",
    "For all other numbers, print the number."
   ]
  },
  {
   "metadata": {
    "ExecuteTime": {
     "end_time": "2025-05-09T08:47:26.371425Z",
     "start_time": "2025-05-09T08:47:26.364643Z"
    }
   },
   "cell_type": "code",
   "source": [
    "# Loop from 1 to 20\n",
    "for number in range(1, 21):\n",
    "    if number % 4 == 0:\n",
    "        continue  # Skip numbers divisible by 4\n",
    "    if number % 7 == 0:\n",
    "        break  # Stop the loop if divisible by 7\n",
    "    print(number)"
   ],
   "id": "7d549c56f9c01050",
   "outputs": [
    {
     "name": "stdout",
     "output_type": "stream",
     "text": [
      "1\n",
      "2\n",
      "3\n",
      "5\n",
      "6\n"
     ]
    }
   ],
   "execution_count": 19
  },
  {
   "metadata": {},
   "cell_type": "code",
   "outputs": [],
   "execution_count": null,
   "source": "",
   "id": "bf6b7ec761cbdc0b"
  }
 ],
 "metadata": {
  "kernelspec": {
   "display_name": "Python [conda env:base] *",
   "language": "python",
   "name": "conda-base-py"
  },
  "language_info": {
   "codemirror_mode": {
    "name": "ipython",
    "version": 3
   },
   "file_extension": ".py",
   "mimetype": "text/x-python",
   "name": "python",
   "nbconvert_exporter": "python",
   "pygments_lexer": "ipython3",
   "version": "3.12.7"
  }
 },
 "nbformat": 4,
 "nbformat_minor": 5
}
